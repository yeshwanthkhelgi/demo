{
  "nbformat": 4,
  "nbformat_minor": 0,
  "metadata": {
    "colab": {
      "provenance": []
    },
    "kernelspec": {
      "name": "python3",
      "display_name": "Python 3"
    },
    "language_info": {
      "name": "python"
    }
  },
  "cells": [
    {
      "cell_type": "code",
      "execution_count": 7,
      "metadata": {
        "colab": {
          "base_uri": "https://localhost:8080/"
        },
        "id": "1GC7JOdmJxZX",
        "outputId": "46c6e027-553a-4c6d-bf23-2ce68645319e"
      },
      "outputs": [
        {
          "output_type": "stream",
          "name": "stdout",
          "text": [
            "Model Evaluation: RMSE = 0.241, R² = 0.909\n",
            "Predicted footfall for 2025-11-05: 1\n"
          ]
        }
      ],
      "source": [
        "import pandas as pd\n",
        "import numpy as np\n",
        "import pickle\n",
        "from datetime import datetime\n",
        "from sklearn.model_selection import train_test_split\n",
        "from sklearn.metrics import mean_squared_error, r2_score\n",
        "from sklearn.ensemble import RandomForestRegressor\n",
        "\n",
        "# Load dataset\n",
        "data_file = \"Tuljapur_Updated_Combined.xlsx\"\n",
        "df = pd.read_excel(data_file)\n",
        "\n",
        "# Convert 'Date' to datetime format\n",
        "df[\"Date\"] = pd.to_datetime(df[\"Date\"], errors=\"coerce\")\n",
        "\n",
        "# Extract useful date features\n",
        "df[\"Year\"] = df[\"Date\"].dt.year\n",
        "df[\"Month\"] = df[\"Date\"].dt.month\n",
        "df[\"Day\"] = df[\"Date\"].dt.day\n",
        "df[\"DayOfWeek\"] = df[\"Date\"].dt.dayofweek\n",
        "\n",
        "# Define numerical columns to use as features\n",
        "numeric_cols = [\"Temp_High_C\", \"Temp_Low_C\", \"Humidity\", \"Wind_Speed_Miles\", \"Precipitation\", \"Functions\"]\n",
        "\n",
        "# Fill missing values with column means\n",
        "df[numeric_cols] = df[numeric_cols].fillna(df[numeric_cols].mean())\n",
        "\n",
        "# Define input (X) and target (y)\n",
        "X = df[[\"Year\", \"Month\", \"Day\", \"DayOfWeek\"] + numeric_cols]\n",
        "y = df[\"Footfall_Crowd\"].astype(float)\n",
        "\n",
        "# Split data into train and test sets\n",
        "X_train, X_test, y_train, y_test = train_test_split(X, y, test_size=0.2, random_state=42)\n",
        "\n",
        "# Train the Random Forest model\n",
        "model = RandomForestRegressor(n_estimators=50, random_state=42)\n",
        "model.fit(X_train, y_train)\n",
        "\n",
        "# Evaluate the model\n",
        "y_pred = model.predict(X_test)\n",
        "rmse = np.sqrt(mean_squared_error(y_test, y_pred))\n",
        "r2 = r2_score(y_test, y_pred)\n",
        "print(f\"Model Evaluation: RMSE = {rmse:.3f}, R² = {r2:.3f}\")\n",
        "\n",
        "# Function to predict footfall for a given date\n",
        "def predict_footfall(date_str):\n",
        "    date = datetime.strptime(date_str, \"%Y-%m-%d\")\n",
        "    features = {\n",
        "        \"Year\": date.year,\n",
        "        \"Month\": date.month,\n",
        "        \"Day\": date.day,\n",
        "        \"DayOfWeek\": date.weekday()\n",
        "    }\n",
        "\n",
        "    # Use mean values for other features\n",
        "    for col in numeric_cols:\n",
        "        features[col] = df[col].mean()\n",
        "\n",
        "    # Convert to DataFrame\n",
        "    input_data = pd.DataFrame([features])\n",
        "\n",
        "    # Predict footfall\n",
        "    prediction = model.predict(input_data)\n",
        "    return round(prediction[0])\n",
        "\n",
        "# Example usage\n",
        "future_date = \"2025-11-05\"\n",
        "predicted_footfall = predict_footfall(future_date)\n",
        "print(f\"Predicted footfall for {future_date}: {predicted_footfall}\")\n"
      ]
    },
    {
      "cell_type": "code",
      "source": [
        "r2 = r2_score(y_test, y_pred)\n",
        "print(f\"Model Evaluation: RMSE = {rmse:.3f}, R² = {r2:.3f}\")"
      ],
      "metadata": {
        "colab": {
          "base_uri": "https://localhost:8080/"
        },
        "id": "QBoqzHUCJ52v",
        "outputId": "e11e82ca-a805-42f1-b93d-bf3abc5bd5db"
      },
      "execution_count": 3,
      "outputs": [
        {
          "output_type": "stream",
          "name": "stdout",
          "text": [
            "Model Evaluation: RMSE = 0.241, R² = 0.909\n"
          ]
        }
      ]
    },
    {
      "cell_type": "code",
      "source": [
        "accuracy = r2 * 100\n",
        "print(f\"Model Accuracy: {accuracy:.2f}%\")"
      ],
      "metadata": {
        "colab": {
          "base_uri": "https://localhost:8080/"
        },
        "id": "DvCqPT2rKQlJ",
        "outputId": "9720a287-a3d1-4fd5-8f1c-b853579b360b"
      },
      "execution_count": 4,
      "outputs": [
        {
          "output_type": "stream",
          "name": "stdout",
          "text": [
            "Model Accuracy: 90.90%\n"
          ]
        }
      ]
    },
    {
      "cell_type": "code",
      "source": [],
      "metadata": {
        "id": "ATIA2b4MLknk"
      },
      "execution_count": null,
      "outputs": []
    }
  ]
}